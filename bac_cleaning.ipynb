{
 "cells": [
  {
   "cell_type": "markdown",
   "metadata": {},
   "source": [
    "### SYS6016 - Project Stage II - Charu Rawat (cr4zy) and Elena Gillis (emg3sc)"
   ]
  },
  {
   "cell_type": "markdown",
   "metadata": {},
   "source": [
    "#### Initial look at the BAC data"
   ]
  },
  {
   "cell_type": "code",
   "execution_count": 1,
   "metadata": {},
   "outputs": [],
   "source": [
    "import pandas as pd\n",
    "import matplotlib.pyplot as plt\n",
    "from datetime import datetime"
   ]
  },
  {
   "cell_type": "code",
   "execution_count": 2,
   "metadata": {},
   "outputs": [],
   "source": [
    "bac = pd.read_csv('bac_0109.csv', index_col= 0)"
   ]
  },
  {
   "cell_type": "code",
   "execution_count": 3,
   "metadata": {},
   "outputs": [
    {
     "data": {
      "text/html": [
       "<div>\n",
       "<style scoped>\n",
       "    .dataframe tbody tr th:only-of-type {\n",
       "        vertical-align: middle;\n",
       "    }\n",
       "\n",
       "    .dataframe tbody tr th {\n",
       "        vertical-align: top;\n",
       "    }\n",
       "\n",
       "    .dataframe thead th {\n",
       "        text-align: right;\n",
       "    }\n",
       "</style>\n",
       "<table border=\"1\" class=\"dataframe\">\n",
       "  <thead>\n",
       "    <tr style=\"text-align: right;\">\n",
       "      <th></th>\n",
       "      <th>timestamp</th>\n",
       "      <th>order_id</th>\n",
       "      <th>book_event_type</th>\n",
       "      <th>price</th>\n",
       "      <th>quantity</th>\n",
       "      <th>side</th>\n",
       "    </tr>\n",
       "  </thead>\n",
       "  <tbody>\n",
       "    <tr>\n",
       "      <th>0</th>\n",
       "      <td>1483952410007185734</td>\n",
       "      <td>307937</td>\n",
       "      <td>A</td>\n",
       "      <td>22440000000</td>\n",
       "      <td>880</td>\n",
       "      <td>B</td>\n",
       "    </tr>\n",
       "    <tr>\n",
       "      <th>1</th>\n",
       "      <td>1483952410007185734</td>\n",
       "      <td>307941</td>\n",
       "      <td>A</td>\n",
       "      <td>22990000000</td>\n",
       "      <td>220</td>\n",
       "      <td>A</td>\n",
       "    </tr>\n",
       "    <tr>\n",
       "      <th>2</th>\n",
       "      <td>1483952410014077305</td>\n",
       "      <td>308085</td>\n",
       "      <td>A</td>\n",
       "      <td>23010000000</td>\n",
       "      <td>220</td>\n",
       "      <td>A</td>\n",
       "    </tr>\n",
       "    <tr>\n",
       "      <th>3</th>\n",
       "      <td>1483952410014077305</td>\n",
       "      <td>308089</td>\n",
       "      <td>A</td>\n",
       "      <td>22430000000</td>\n",
       "      <td>220</td>\n",
       "      <td>B</td>\n",
       "    </tr>\n",
       "    <tr>\n",
       "      <th>4</th>\n",
       "      <td>1483952410019763730</td>\n",
       "      <td>308225</td>\n",
       "      <td>A</td>\n",
       "      <td>22420000000</td>\n",
       "      <td>440</td>\n",
       "      <td>B</td>\n",
       "    </tr>\n",
       "  </tbody>\n",
       "</table>\n",
       "</div>"
      ],
      "text/plain": [
       "             timestamp  order_id book_event_type        price  quantity side\n",
       "0  1483952410007185734    307937               A  22440000000       880    B\n",
       "1  1483952410007185734    307941               A  22990000000       220    A\n",
       "2  1483952410014077305    308085               A  23010000000       220    A\n",
       "3  1483952410014077305    308089               A  22430000000       220    B\n",
       "4  1483952410019763730    308225               A  22420000000       440    B"
      ]
     },
     "execution_count": 3,
     "metadata": {},
     "output_type": "execute_result"
    }
   ],
   "source": [
    "bac.head()"
   ]
  },
  {
   "cell_type": "code",
   "execution_count": 4,
   "metadata": {},
   "outputs": [
    {
     "data": {
      "text/html": [
       "<div>\n",
       "<style scoped>\n",
       "    .dataframe tbody tr th:only-of-type {\n",
       "        vertical-align: middle;\n",
       "    }\n",
       "\n",
       "    .dataframe tbody tr th {\n",
       "        vertical-align: top;\n",
       "    }\n",
       "\n",
       "    .dataframe thead th {\n",
       "        text-align: right;\n",
       "    }\n",
       "</style>\n",
       "<table border=\"1\" class=\"dataframe\">\n",
       "  <thead>\n",
       "    <tr style=\"text-align: right;\">\n",
       "      <th></th>\n",
       "      <th>timestamp</th>\n",
       "      <th>order_id</th>\n",
       "      <th>book_event_type</th>\n",
       "      <th>price</th>\n",
       "      <th>quantity</th>\n",
       "      <th>side</th>\n",
       "    </tr>\n",
       "  </thead>\n",
       "  <tbody>\n",
       "    <tr>\n",
       "      <th>583142</th>\n",
       "      <td>1484010000077704899</td>\n",
       "      <td>206447165</td>\n",
       "      <td>C</td>\n",
       "      <td>24000000000</td>\n",
       "      <td>0</td>\n",
       "      <td>A</td>\n",
       "    </tr>\n",
       "    <tr>\n",
       "      <th>583143</th>\n",
       "      <td>1484010000078109674</td>\n",
       "      <td>206446997</td>\n",
       "      <td>C</td>\n",
       "      <td>25000000000</td>\n",
       "      <td>0</td>\n",
       "      <td>A</td>\n",
       "    </tr>\n",
       "    <tr>\n",
       "      <th>583144</th>\n",
       "      <td>1484010000079317688</td>\n",
       "      <td>234590049</td>\n",
       "      <td>C</td>\n",
       "      <td>22550000000</td>\n",
       "      <td>0</td>\n",
       "      <td>B</td>\n",
       "    </tr>\n",
       "    <tr>\n",
       "      <th>583145</th>\n",
       "      <td>1484010000079744569</td>\n",
       "      <td>234627581</td>\n",
       "      <td>C</td>\n",
       "      <td>22590000000</td>\n",
       "      <td>0</td>\n",
       "      <td>A</td>\n",
       "    </tr>\n",
       "    <tr>\n",
       "      <th>583146</th>\n",
       "      <td>1484010000080006912</td>\n",
       "      <td>234592405</td>\n",
       "      <td>C</td>\n",
       "      <td>22600000000</td>\n",
       "      <td>0</td>\n",
       "      <td>A</td>\n",
       "    </tr>\n",
       "  </tbody>\n",
       "</table>\n",
       "</div>"
      ],
      "text/plain": [
       "                  timestamp   order_id book_event_type        price  quantity  \\\n",
       "583142  1484010000077704899  206447165               C  24000000000         0   \n",
       "583143  1484010000078109674  206446997               C  25000000000         0   \n",
       "583144  1484010000079317688  234590049               C  22550000000         0   \n",
       "583145  1484010000079744569  234627581               C  22590000000         0   \n",
       "583146  1484010000080006912  234592405               C  22600000000         0   \n",
       "\n",
       "       side  \n",
       "583142    A  \n",
       "583143    A  \n",
       "583144    B  \n",
       "583145    A  \n",
       "583146    A  "
      ]
     },
     "execution_count": 4,
     "metadata": {},
     "output_type": "execute_result"
    }
   ],
   "source": [
    "bac.tail()"
   ]
  },
  {
   "cell_type": "code",
   "execution_count": 5,
   "metadata": {},
   "outputs": [
    {
     "data": {
      "text/html": [
       "<div>\n",
       "<style scoped>\n",
       "    .dataframe tbody tr th:only-of-type {\n",
       "        vertical-align: middle;\n",
       "    }\n",
       "\n",
       "    .dataframe tbody tr th {\n",
       "        vertical-align: top;\n",
       "    }\n",
       "\n",
       "    .dataframe thead th {\n",
       "        text-align: right;\n",
       "    }\n",
       "</style>\n",
       "<table border=\"1\" class=\"dataframe\">\n",
       "  <thead>\n",
       "    <tr style=\"text-align: right;\">\n",
       "      <th></th>\n",
       "      <th>timestamp</th>\n",
       "      <th>order_id</th>\n",
       "      <th>book_event_type</th>\n",
       "      <th>price</th>\n",
       "      <th>quantity</th>\n",
       "      <th>side</th>\n",
       "    </tr>\n",
       "  </thead>\n",
       "  <tbody>\n",
       "    <tr>\n",
       "      <th>542594</th>\n",
       "      <td>1483994670482156865</td>\n",
       "      <td>218360061</td>\n",
       "      <td>A</td>\n",
       "      <td>22620000000</td>\n",
       "      <td>1500</td>\n",
       "      <td>A</td>\n",
       "    </tr>\n",
       "    <tr>\n",
       "      <th>236980</th>\n",
       "      <td>1483977449396438702</td>\n",
       "      <td>81799449</td>\n",
       "      <td>A</td>\n",
       "      <td>22510000000</td>\n",
       "      <td>200</td>\n",
       "      <td>B</td>\n",
       "    </tr>\n",
       "    <tr>\n",
       "      <th>550176</th>\n",
       "      <td>1483994876654050752</td>\n",
       "      <td>220709133</td>\n",
       "      <td>T</td>\n",
       "      <td>22590000000</td>\n",
       "      <td>100</td>\n",
       "      <td>A</td>\n",
       "    </tr>\n",
       "    <tr>\n",
       "      <th>87128</th>\n",
       "      <td>1483972678838501147</td>\n",
       "      <td>20110357</td>\n",
       "      <td>A</td>\n",
       "      <td>22440000000</td>\n",
       "      <td>200</td>\n",
       "      <td>A</td>\n",
       "    </tr>\n",
       "    <tr>\n",
       "      <th>182539</th>\n",
       "      <td>1483975236376218929</td>\n",
       "      <td>56009689</td>\n",
       "      <td>C</td>\n",
       "      <td>22530000000</td>\n",
       "      <td>0</td>\n",
       "      <td>B</td>\n",
       "    </tr>\n",
       "  </tbody>\n",
       "</table>\n",
       "</div>"
      ],
      "text/plain": [
       "                  timestamp   order_id book_event_type        price  quantity  \\\n",
       "542594  1483994670482156865  218360061               A  22620000000      1500   \n",
       "236980  1483977449396438702   81799449               A  22510000000       200   \n",
       "550176  1483994876654050752  220709133               T  22590000000       100   \n",
       "87128   1483972678838501147   20110357               A  22440000000       200   \n",
       "182539  1483975236376218929   56009689               C  22530000000         0   \n",
       "\n",
       "       side  \n",
       "542594    A  \n",
       "236980    B  \n",
       "550176    A  \n",
       "87128     A  \n",
       "182539    B  "
      ]
     },
     "execution_count": 5,
     "metadata": {},
     "output_type": "execute_result"
    }
   ],
   "source": [
    "bac.sample(5)"
   ]
  },
  {
   "cell_type": "code",
   "execution_count": 6,
   "metadata": {},
   "outputs": [
    {
     "data": {
      "text/plain": [
       "(583147, 6)"
      ]
     },
     "execution_count": 6,
     "metadata": {},
     "output_type": "execute_result"
    }
   ],
   "source": [
    "bac.shape"
   ]
  },
  {
   "cell_type": "code",
   "execution_count": 7,
   "metadata": {},
   "outputs": [
    {
     "data": {
      "text/plain": [
       "array(['A', 'C', 'M', 'T'], dtype=object)"
      ]
     },
     "execution_count": 7,
     "metadata": {},
     "output_type": "execute_result"
    }
   ],
   "source": [
    "bac['book_event_type'].unique()\n",
    "# add, modity, cancel, trade"
   ]
  },
  {
   "cell_type": "code",
   "execution_count": 8,
   "metadata": {},
   "outputs": [
    {
     "data": {
      "text/plain": [
       "array(['B', 'A', 'U'], dtype=object)"
      ]
     },
     "execution_count": 8,
     "metadata": {},
     "output_type": "execute_result"
    }
   ],
   "source": [
    "bac['side'].unique()"
   ]
  },
  {
   "cell_type": "code",
   "execution_count": 9,
   "metadata": {},
   "outputs": [
    {
     "name": "stdout",
     "output_type": "stream",
     "text": [
      "Price min:\n",
      "100000\n",
      "\n",
      "Price max:\n",
      "199999990000000\n"
     ]
    }
   ],
   "source": [
    "print('Price min:')\n",
    "print(bac['price'].min())\n",
    "print('')\n",
    "print('Price max:')\n",
    "print(bac['price'].max())\n",
    "# prices are multiplied by 10000 to remove decimals"
   ]
  },
  {
   "cell_type": "markdown",
   "metadata": {},
   "source": [
    "#### Data Cleaning"
   ]
  },
  {
   "cell_type": "code",
   "execution_count": 10,
   "metadata": {},
   "outputs": [],
   "source": [
    "# save original bac to df\n",
    "df = bac"
   ]
  },
  {
   "cell_type": "code",
   "execution_count": 11,
   "metadata": {},
   "outputs": [
    {
     "data": {
      "text/html": [
       "<div>\n",
       "<style scoped>\n",
       "    .dataframe tbody tr th:only-of-type {\n",
       "        vertical-align: middle;\n",
       "    }\n",
       "\n",
       "    .dataframe tbody tr th {\n",
       "        vertical-align: top;\n",
       "    }\n",
       "\n",
       "    .dataframe thead th {\n",
       "        text-align: right;\n",
       "    }\n",
       "</style>\n",
       "<table border=\"1\" class=\"dataframe\">\n",
       "  <thead>\n",
       "    <tr style=\"text-align: right;\">\n",
       "      <th></th>\n",
       "      <th>timestamp</th>\n",
       "      <th>order_id</th>\n",
       "      <th>book_event_type</th>\n",
       "      <th>price</th>\n",
       "      <th>quantity</th>\n",
       "      <th>side</th>\n",
       "      <th>date</th>\n",
       "      <th>time</th>\n",
       "    </tr>\n",
       "  </thead>\n",
       "  <tbody>\n",
       "    <tr>\n",
       "      <th>187335</th>\n",
       "      <td>2017-01-09 15:23:30.485597454</td>\n",
       "      <td>57981705</td>\n",
       "      <td>C</td>\n",
       "      <td>22590000000</td>\n",
       "      <td>0</td>\n",
       "      <td>A</td>\n",
       "      <td>2017-01-09</td>\n",
       "      <td>15:23:00</td>\n",
       "    </tr>\n",
       "    <tr>\n",
       "      <th>391400</th>\n",
       "      <td>2017-01-09 18:03:32.526116281</td>\n",
       "      <td>147244721</td>\n",
       "      <td>A</td>\n",
       "      <td>22510000000</td>\n",
       "      <td>200</td>\n",
       "      <td>B</td>\n",
       "      <td>2017-01-09</td>\n",
       "      <td>18:03:00</td>\n",
       "    </tr>\n",
       "    <tr>\n",
       "      <th>431891</th>\n",
       "      <td>2017-01-09 18:54:30.877557724</td>\n",
       "      <td>167977709</td>\n",
       "      <td>C</td>\n",
       "      <td>22620000000</td>\n",
       "      <td>0</td>\n",
       "      <td>B</td>\n",
       "      <td>2017-01-09</td>\n",
       "      <td>18:54:00</td>\n",
       "    </tr>\n",
       "  </tbody>\n",
       "</table>\n",
       "</div>"
      ],
      "text/plain": [
       "                           timestamp   order_id book_event_type        price  \\\n",
       "187335 2017-01-09 15:23:30.485597454   57981705               C  22590000000   \n",
       "391400 2017-01-09 18:03:32.526116281  147244721               A  22510000000   \n",
       "431891 2017-01-09 18:54:30.877557724  167977709               C  22620000000   \n",
       "\n",
       "        quantity side        date      time  \n",
       "187335         0    A  2017-01-09  15:23:00  \n",
       "391400       200    B  2017-01-09  18:03:00  \n",
       "431891         0    B  2017-01-09  18:54:00  "
      ]
     },
     "execution_count": 11,
     "metadata": {},
     "output_type": "execute_result"
    }
   ],
   "source": [
    "# convert timestamp into datetime format\n",
    "bac['timestamp'] = pd.to_datetime(bac['timestamp'])\n",
    "\n",
    "# separate date and time\n",
    "bac['date'] = bac['timestamp'].dt.date.astype(str)\n",
    "#bac['time'] = bac['timestamp'].dt.time\n",
    "# round time to minutes\n",
    "bac['time'] = bac['timestamp'].apply(lambda dt: \n",
    "                                     datetime(dt.year, dt.month, dt.day, dt.hour,dt.minute))\n",
    "bac['time'] = bac['time'].dt.time\n",
    "bac.sample(3)"
   ]
  },
  {
   "cell_type": "code",
   "execution_count": 12,
   "metadata": {},
   "outputs": [
    {
     "data": {
      "text/plain": [
       "date\n",
       "2017-01-09    583027\n",
       "2017-01-10       120\n",
       "dtype: int64"
      ]
     },
     "execution_count": 12,
     "metadata": {},
     "output_type": "execute_result"
    }
   ],
   "source": [
    "# count number of instances for each day\n",
    "bac.groupby('date').size()"
   ]
  },
  {
   "cell_type": "code",
   "execution_count": 13,
   "metadata": {},
   "outputs": [
    {
     "data": {
      "text/html": [
       "<div>\n",
       "<style scoped>\n",
       "    .dataframe tbody tr th:only-of-type {\n",
       "        vertical-align: middle;\n",
       "    }\n",
       "\n",
       "    .dataframe tbody tr th {\n",
       "        vertical-align: top;\n",
       "    }\n",
       "\n",
       "    .dataframe thead th {\n",
       "        text-align: right;\n",
       "    }\n",
       "</style>\n",
       "<table border=\"1\" class=\"dataframe\">\n",
       "  <thead>\n",
       "    <tr style=\"text-align: right;\">\n",
       "      <th></th>\n",
       "      <th>timestamp</th>\n",
       "      <th>order_id</th>\n",
       "      <th>book_event_type</th>\n",
       "      <th>price</th>\n",
       "      <th>quantity</th>\n",
       "      <th>side</th>\n",
       "      <th>date</th>\n",
       "      <th>time</th>\n",
       "    </tr>\n",
       "  </thead>\n",
       "  <tbody>\n",
       "    <tr>\n",
       "      <th>457947</th>\n",
       "      <td>2017-01-09 19:23:17.230072848</td>\n",
       "      <td>180265437</td>\n",
       "      <td>A</td>\n",
       "      <td>22620000000</td>\n",
       "      <td>1000</td>\n",
       "      <td>A</td>\n",
       "      <td>2017-01-09</td>\n",
       "      <td>19:23:00</td>\n",
       "    </tr>\n",
       "    <tr>\n",
       "      <th>106424</th>\n",
       "      <td>2017-01-09 14:44:04.919998988</td>\n",
       "      <td>26408869</td>\n",
       "      <td>C</td>\n",
       "      <td>22510000000</td>\n",
       "      <td>0</td>\n",
       "      <td>A</td>\n",
       "      <td>2017-01-09</td>\n",
       "      <td>14:44:00</td>\n",
       "    </tr>\n",
       "    <tr>\n",
       "      <th>460292</th>\n",
       "      <td>2017-01-09 19:25:46.824617668</td>\n",
       "      <td>181286321</td>\n",
       "      <td>C</td>\n",
       "      <td>22610000000</td>\n",
       "      <td>0</td>\n",
       "      <td>B</td>\n",
       "      <td>2017-01-09</td>\n",
       "      <td>19:25:00</td>\n",
       "    </tr>\n",
       "  </tbody>\n",
       "</table>\n",
       "</div>"
      ],
      "text/plain": [
       "                           timestamp   order_id book_event_type        price  \\\n",
       "457947 2017-01-09 19:23:17.230072848  180265437               A  22620000000   \n",
       "106424 2017-01-09 14:44:04.919998988   26408869               C  22510000000   \n",
       "460292 2017-01-09 19:25:46.824617668  181286321               C  22610000000   \n",
       "\n",
       "        quantity side        date      time  \n",
       "457947      1000    A  2017-01-09  19:23:00  \n",
       "106424         0    A  2017-01-09  14:44:00  \n",
       "460292         0    B  2017-01-09  19:25:00  "
      ]
     },
     "execution_count": 13,
     "metadata": {},
     "output_type": "execute_result"
    }
   ],
   "source": [
    "# only keep data from January 3 to see activity distribution in a day\n",
    "bac_Jan9 = bac[bac['date'] == '2017-01-09']\n",
    "bac_Jan9.sample(3)"
   ]
  },
  {
   "cell_type": "code",
   "execution_count": 14,
   "metadata": {},
   "outputs": [
    {
     "name": "stdout",
     "output_type": "stream",
     "text": [
      "Start time:\n",
      "09:00:00\n",
      "\n",
      "End time:\n",
      "23:59:00\n"
     ]
    }
   ],
   "source": [
    "# find time range for January 3\n",
    "print('Start time:')\n",
    "print(bac_Jan9['time'].min())\n",
    "print('')\n",
    "print('End time:')\n",
    "print(bac_Jan9['time'].max())"
   ]
  },
  {
   "cell_type": "code",
   "execution_count": 15,
   "metadata": {},
   "outputs": [
    {
     "name": "stdout",
     "output_type": "stream",
     "text": [
      "Price min:\n",
      "100000\n",
      "\n",
      "Price max:\n",
      "199999990000000\n"
     ]
    }
   ],
   "source": [
    "#price range for January 3\n",
    "print('Price min:')\n",
    "print(bac_Jan9['price'].min())\n",
    "print('')\n",
    "print('Price max:')\n",
    "print(bac_Jan9['price'].max())\n",
    "# prices are multiplied by 10000 to remove decimals"
   ]
  },
  {
   "cell_type": "code",
   "execution_count": 16,
   "metadata": {},
   "outputs": [
    {
     "data": {
      "text/plain": [
       "book_event_type\n",
       "A    269179\n",
       "C    261655\n",
       "M     39578\n",
       "T     12615\n",
       "dtype: int64"
      ]
     },
     "execution_count": 16,
     "metadata": {},
     "output_type": "execute_result"
    }
   ],
   "source": [
    "# count number of instances for book even type\n",
    "bac_Jan9.groupby('book_event_type').size()"
   ]
  },
  {
   "cell_type": "code",
   "execution_count": 17,
   "metadata": {},
   "outputs": [
    {
     "data": {
      "text/plain": [
       "side\n",
       "A    288585\n",
       "B    291987\n",
       "U      2455\n",
       "dtype: int64"
      ]
     },
     "execution_count": 17,
     "metadata": {},
     "output_type": "execute_result"
    }
   ],
   "source": [
    "# count number of instances for each side\n",
    "bac_Jan9.groupby('side').size()"
   ]
  },
  {
   "cell_type": "code",
   "execution_count": 18,
   "metadata": {},
   "outputs": [
    {
     "name": "stdout",
     "output_type": "stream",
     "text": [
      "Ask min price:\n",
      "22410000000\n",
      "\n",
      "Ask max price:\n",
      "199999990000000\n",
      "\n",
      "Bid min price:\n",
      "100000\n",
      "\n",
      "Bid max price:\n",
      "22700000000\n"
     ]
    }
   ],
   "source": [
    "# ask price range for January 3\n",
    "print('Ask min price:')\n",
    "print(bac_Jan9['price'][bac_Jan9['side']=='A'].min())\n",
    "print('')\n",
    "print('Ask max price:')\n",
    "print(bac_Jan9['price'][bac_Jan9['side']=='A'].max())\n",
    "print('')\n",
    "print('Bid min price:')\n",
    "print(bac_Jan9['price'][bac_Jan9['side']=='B'].min())\n",
    "print('')\n",
    "print('Bid max price:')\n",
    "print(bac_Jan9['price'][bac_Jan9['side']=='B'].max())\n",
    "# prices are multiplied by 10000 to remove decimals"
   ]
  },
  {
   "cell_type": "code",
   "execution_count": 19,
   "metadata": {},
   "outputs": [
    {
     "data": {
      "text/html": [
       "<div>\n",
       "<style scoped>\n",
       "    .dataframe tbody tr th:only-of-type {\n",
       "        vertical-align: middle;\n",
       "    }\n",
       "\n",
       "    .dataframe tbody tr th {\n",
       "        vertical-align: top;\n",
       "    }\n",
       "\n",
       "    .dataframe thead th {\n",
       "        text-align: right;\n",
       "    }\n",
       "</style>\n",
       "<table border=\"1\" class=\"dataframe\">\n",
       "  <thead>\n",
       "    <tr style=\"text-align: right;\">\n",
       "      <th></th>\n",
       "      <th>timestamp</th>\n",
       "      <th>order_id</th>\n",
       "      <th>book_event_type</th>\n",
       "      <th>price</th>\n",
       "      <th>quantity</th>\n",
       "      <th>side</th>\n",
       "      <th>date</th>\n",
       "      <th>time</th>\n",
       "    </tr>\n",
       "  </thead>\n",
       "  <tbody>\n",
       "    <tr>\n",
       "      <th>2099</th>\n",
       "      <td>2017-01-09 09:21:52.603757351</td>\n",
       "      <td>0</td>\n",
       "      <td>T</td>\n",
       "      <td>22670000000</td>\n",
       "      <td>1</td>\n",
       "      <td>U</td>\n",
       "      <td>2017-01-09</td>\n",
       "      <td>09:21:00</td>\n",
       "    </tr>\n",
       "    <tr>\n",
       "      <th>12535</th>\n",
       "      <td>2017-01-09 10:23:46.044451661</td>\n",
       "      <td>0</td>\n",
       "      <td>T</td>\n",
       "      <td>22670000000</td>\n",
       "      <td>99</td>\n",
       "      <td>U</td>\n",
       "      <td>2017-01-09</td>\n",
       "      <td>10:23:00</td>\n",
       "    </tr>\n",
       "    <tr>\n",
       "      <th>12536</th>\n",
       "      <td>2017-01-09 10:23:46.044451661</td>\n",
       "      <td>0</td>\n",
       "      <td>T</td>\n",
       "      <td>22670000000</td>\n",
       "      <td>1</td>\n",
       "      <td>U</td>\n",
       "      <td>2017-01-09</td>\n",
       "      <td>10:23:00</td>\n",
       "    </tr>\n",
       "  </tbody>\n",
       "</table>\n",
       "</div>"
      ],
      "text/plain": [
       "                          timestamp  order_id book_event_type        price  \\\n",
       "2099  2017-01-09 09:21:52.603757351         0               T  22670000000   \n",
       "12535 2017-01-09 10:23:46.044451661         0               T  22670000000   \n",
       "12536 2017-01-09 10:23:46.044451661         0               T  22670000000   \n",
       "\n",
       "       quantity side        date      time  \n",
       "2099          1    U  2017-01-09  09:21:00  \n",
       "12535        99    U  2017-01-09  10:23:00  \n",
       "12536         1    U  2017-01-09  10:23:00  "
      ]
     },
     "execution_count": 19,
     "metadata": {},
     "output_type": "execute_result"
    }
   ],
   "source": [
    "# ?? only look at prices trade trade?\n",
    "bac_Jan9_t = bac_Jan9[bac_Jan9['book_event_type'] == 'T']\n",
    "bac_Jan9_t.head(3)"
   ]
  },
  {
   "cell_type": "code",
   "execution_count": 20,
   "metadata": {},
   "outputs": [
    {
     "data": {
      "text/html": [
       "<div>\n",
       "<style scoped>\n",
       "    .dataframe tbody tr th:only-of-type {\n",
       "        vertical-align: middle;\n",
       "    }\n",
       "\n",
       "    .dataframe tbody tr th {\n",
       "        vertical-align: top;\n",
       "    }\n",
       "\n",
       "    .dataframe thead th {\n",
       "        text-align: right;\n",
       "    }\n",
       "</style>\n",
       "<table border=\"1\" class=\"dataframe\">\n",
       "  <thead>\n",
       "    <tr style=\"text-align: right;\">\n",
       "      <th></th>\n",
       "      <th>timestamp</th>\n",
       "      <th>order_id</th>\n",
       "      <th>book_event_type</th>\n",
       "      <th>price</th>\n",
       "      <th>quantity</th>\n",
       "      <th>side</th>\n",
       "      <th>date</th>\n",
       "      <th>time</th>\n",
       "    </tr>\n",
       "  </thead>\n",
       "  <tbody>\n",
       "    <tr>\n",
       "      <th>0</th>\n",
       "      <td>2017-01-09 09:00:10.007185734</td>\n",
       "      <td>307937</td>\n",
       "      <td>A</td>\n",
       "      <td>22440000000</td>\n",
       "      <td>880</td>\n",
       "      <td>B</td>\n",
       "      <td>2017-01-09</td>\n",
       "      <td>09:00:00</td>\n",
       "    </tr>\n",
       "    <tr>\n",
       "      <th>1</th>\n",
       "      <td>2017-01-09 09:00:10.007185734</td>\n",
       "      <td>307941</td>\n",
       "      <td>A</td>\n",
       "      <td>22990000000</td>\n",
       "      <td>220</td>\n",
       "      <td>A</td>\n",
       "      <td>2017-01-09</td>\n",
       "      <td>09:00:00</td>\n",
       "    </tr>\n",
       "    <tr>\n",
       "      <th>2</th>\n",
       "      <td>2017-01-09 09:00:10.014077305</td>\n",
       "      <td>308085</td>\n",
       "      <td>A</td>\n",
       "      <td>23010000000</td>\n",
       "      <td>220</td>\n",
       "      <td>A</td>\n",
       "      <td>2017-01-09</td>\n",
       "      <td>09:00:00</td>\n",
       "    </tr>\n",
       "    <tr>\n",
       "      <th>3</th>\n",
       "      <td>2017-01-09 09:00:10.014077305</td>\n",
       "      <td>308089</td>\n",
       "      <td>A</td>\n",
       "      <td>22430000000</td>\n",
       "      <td>220</td>\n",
       "      <td>B</td>\n",
       "      <td>2017-01-09</td>\n",
       "      <td>09:00:00</td>\n",
       "    </tr>\n",
       "    <tr>\n",
       "      <th>4</th>\n",
       "      <td>2017-01-09 09:00:10.019763730</td>\n",
       "      <td>308225</td>\n",
       "      <td>A</td>\n",
       "      <td>22420000000</td>\n",
       "      <td>440</td>\n",
       "      <td>B</td>\n",
       "      <td>2017-01-09</td>\n",
       "      <td>09:00:00</td>\n",
       "    </tr>\n",
       "  </tbody>\n",
       "</table>\n",
       "</div>"
      ],
      "text/plain": [
       "                      timestamp  order_id book_event_type        price  \\\n",
       "0 2017-01-09 09:00:10.007185734    307937               A  22440000000   \n",
       "1 2017-01-09 09:00:10.007185734    307941               A  22990000000   \n",
       "2 2017-01-09 09:00:10.014077305    308085               A  23010000000   \n",
       "3 2017-01-09 09:00:10.014077305    308089               A  22430000000   \n",
       "4 2017-01-09 09:00:10.019763730    308225               A  22420000000   \n",
       "\n",
       "   quantity side        date      time  \n",
       "0       880    B  2017-01-09  09:00:00  \n",
       "1       220    A  2017-01-09  09:00:00  \n",
       "2       220    A  2017-01-09  09:00:00  \n",
       "3       220    B  2017-01-09  09:00:00  \n",
       "4       440    B  2017-01-09  09:00:00  "
      ]
     },
     "execution_count": 20,
     "metadata": {},
     "output_type": "execute_result"
    }
   ],
   "source": [
    "#???only keep ask and bid prices (remove unknown)\n",
    "bac_Jan9 = bac_Jan9[bac_Jan9['side']!='U']\n",
    "bac_Jan9.head()"
   ]
  },
  {
   "cell_type": "code",
   "execution_count": 21,
   "metadata": {},
   "outputs": [
    {
     "data": {
      "text/html": [
       "<div>\n",
       "<style scoped>\n",
       "    .dataframe tbody tr th:only-of-type {\n",
       "        vertical-align: middle;\n",
       "    }\n",
       "\n",
       "    .dataframe tbody tr th {\n",
       "        vertical-align: top;\n",
       "    }\n",
       "\n",
       "    .dataframe thead th {\n",
       "        text-align: right;\n",
       "    }\n",
       "</style>\n",
       "<table border=\"1\" class=\"dataframe\">\n",
       "  <thead>\n",
       "    <tr style=\"text-align: right;\">\n",
       "      <th></th>\n",
       "      <th>order_id</th>\n",
       "      <th>side</th>\n",
       "      <th>price</th>\n",
       "    </tr>\n",
       "  </thead>\n",
       "  <tbody>\n",
       "    <tr>\n",
       "      <th>0</th>\n",
       "      <td>175193</td>\n",
       "      <td>B</td>\n",
       "      <td>20500000000</td>\n",
       "    </tr>\n",
       "    <tr>\n",
       "      <th>1</th>\n",
       "      <td>178433</td>\n",
       "      <td>B</td>\n",
       "      <td>22100000000</td>\n",
       "    </tr>\n",
       "    <tr>\n",
       "      <th>2</th>\n",
       "      <td>307937</td>\n",
       "      <td>B</td>\n",
       "      <td>22440000000</td>\n",
       "    </tr>\n",
       "    <tr>\n",
       "      <th>3</th>\n",
       "      <td>307941</td>\n",
       "      <td>A</td>\n",
       "      <td>22990000000</td>\n",
       "    </tr>\n",
       "    <tr>\n",
       "      <th>4</th>\n",
       "      <td>308085</td>\n",
       "      <td>A</td>\n",
       "      <td>23010000000</td>\n",
       "    </tr>\n",
       "  </tbody>\n",
       "</table>\n",
       "</div>"
      ],
      "text/plain": [
       "   order_id side        price\n",
       "0    175193    B  20500000000\n",
       "1    178433    B  22100000000\n",
       "2    307937    B  22440000000\n",
       "3    307941    A  22990000000\n",
       "4    308085    A  23010000000"
      ]
     },
     "execution_count": 21,
     "metadata": {},
     "output_type": "execute_result"
    }
   ],
   "source": [
    "#??? only retain max prices for each order id\n",
    "maxprice = pd.DataFrame(bac_Jan9.groupby(['order_id','side'])['price'].max())\n",
    "maxprice = maxprice.reset_index()\n",
    "maxprice.head()"
   ]
  },
  {
   "cell_type": "code",
   "execution_count": 22,
   "metadata": {},
   "outputs": [
    {
     "data": {
      "text/html": [
       "<div>\n",
       "<style scoped>\n",
       "    .dataframe tbody tr th:only-of-type {\n",
       "        vertical-align: middle;\n",
       "    }\n",
       "\n",
       "    .dataframe tbody tr th {\n",
       "        vertical-align: top;\n",
       "    }\n",
       "\n",
       "    .dataframe thead th {\n",
       "        text-align: right;\n",
       "    }\n",
       "</style>\n",
       "<table border=\"1\" class=\"dataframe\">\n",
       "  <thead>\n",
       "    <tr style=\"text-align: right;\">\n",
       "      <th></th>\n",
       "      <th>order_id</th>\n",
       "      <th>ask_price</th>\n",
       "    </tr>\n",
       "  </thead>\n",
       "  <tbody>\n",
       "    <tr>\n",
       "      <th>0</th>\n",
       "      <td>307941</td>\n",
       "      <td>22990000000</td>\n",
       "    </tr>\n",
       "    <tr>\n",
       "      <th>1</th>\n",
       "      <td>308085</td>\n",
       "      <td>23010000000</td>\n",
       "    </tr>\n",
       "    <tr>\n",
       "      <th>2</th>\n",
       "      <td>308229</td>\n",
       "      <td>23060000000</td>\n",
       "    </tr>\n",
       "  </tbody>\n",
       "</table>\n",
       "</div>"
      ],
      "text/plain": [
       "   order_id    ask_price\n",
       "0    307941  22990000000\n",
       "1    308085  23010000000\n",
       "2    308229  23060000000"
      ]
     },
     "execution_count": 22,
     "metadata": {},
     "output_type": "execute_result"
    }
   ],
   "source": [
    "# create a dataframe with ask prices for each order id\n",
    "maxprice_A = pd.DataFrame(maxprice[maxprice['side']=='A'])\n",
    "maxprice_A['ask_price'] = maxprice_A['price']\n",
    "maxprice_A = maxprice_A.reset_index()\n",
    "maxprice_A.drop(['index','side','price'], axis=1, inplace=True)\n",
    "maxprice_A.head(3)"
   ]
  },
  {
   "cell_type": "code",
   "execution_count": 23,
   "metadata": {},
   "outputs": [
    {
     "data": {
      "text/html": [
       "<div>\n",
       "<style scoped>\n",
       "    .dataframe tbody tr th:only-of-type {\n",
       "        vertical-align: middle;\n",
       "    }\n",
       "\n",
       "    .dataframe tbody tr th {\n",
       "        vertical-align: top;\n",
       "    }\n",
       "\n",
       "    .dataframe thead th {\n",
       "        text-align: right;\n",
       "    }\n",
       "</style>\n",
       "<table border=\"1\" class=\"dataframe\">\n",
       "  <thead>\n",
       "    <tr style=\"text-align: right;\">\n",
       "      <th></th>\n",
       "      <th>order_id</th>\n",
       "      <th>bid_price</th>\n",
       "    </tr>\n",
       "  </thead>\n",
       "  <tbody>\n",
       "    <tr>\n",
       "      <th>0</th>\n",
       "      <td>175193</td>\n",
       "      <td>20500000000</td>\n",
       "    </tr>\n",
       "    <tr>\n",
       "      <th>1</th>\n",
       "      <td>178433</td>\n",
       "      <td>22100000000</td>\n",
       "    </tr>\n",
       "    <tr>\n",
       "      <th>2</th>\n",
       "      <td>307937</td>\n",
       "      <td>22440000000</td>\n",
       "    </tr>\n",
       "  </tbody>\n",
       "</table>\n",
       "</div>"
      ],
      "text/plain": [
       "   order_id    bid_price\n",
       "0    175193  20500000000\n",
       "1    178433  22100000000\n",
       "2    307937  22440000000"
      ]
     },
     "execution_count": 23,
     "metadata": {},
     "output_type": "execute_result"
    }
   ],
   "source": [
    "# create a dataframe with bid prices for each order id\n",
    "maxprice_B = pd.DataFrame(maxprice[maxprice['side']=='B'])\n",
    "maxprice_B['bid_price'] = maxprice_B['price']\n",
    "maxprice_B = maxprice_B.reset_index()\n",
    "maxprice_B.drop(['index','side','price'], axis=1, inplace=True)\n",
    "maxprice_B.head(3)"
   ]
  },
  {
   "cell_type": "code",
   "execution_count": 26,
   "metadata": {},
   "outputs": [
    {
     "name": "stdout",
     "output_type": "stream",
     "text": [
      "(0, 3)\n",
      "Empty DataFrame\n",
      "Columns: [order_id, ask_price, bid_price]\n",
      "Index: []\n"
     ]
    }
   ],
   "source": [
    "# create a dataframe with ask and bid price for each order id\n",
    "\n",
    "# inner join both dataframes on time \n",
    "# to retain only timestamps that have both ask and bid prices\n",
    "maxprices_AB = pd.merge(maxprice_A, maxprice_B, on = 'order_id', how='inner')\n",
    "print(maxprices_AB.shape)\n",
    "print(maxprices_AB.head())"
   ]
  },
  {
   "cell_type": "code",
   "execution_count": 25,
   "metadata": {},
   "outputs": [
    {
     "ename": "NameError",
     "evalue": "name 'bac_Jan3_t' is not defined",
     "output_type": "error",
     "traceback": [
      "\u001b[1;31m---------------------------------------------------------------------------\u001b[0m",
      "\u001b[1;31mNameError\u001b[0m                                 Traceback (most recent call last)",
      "\u001b[1;32m<ipython-input-25-5675744f21cc>\u001b[0m in \u001b[0;36m<module>\u001b[1;34m()\u001b[0m\n\u001b[0;32m      1\u001b[0m \u001b[1;33m\u001b[0m\u001b[0m\n\u001b[1;32m----> 2\u001b[1;33m plt.plot(bac_Jan3_t['time'][bac_Jan3_t['side']=='A'],\n\u001b[0m\u001b[0;32m      3\u001b[0m          \u001b[0mbac_Jan3_t\u001b[0m\u001b[1;33m[\u001b[0m\u001b[1;34m'price'\u001b[0m\u001b[1;33m]\u001b[0m\u001b[1;33m[\u001b[0m\u001b[0mbac_Jan3_t\u001b[0m\u001b[1;33m[\u001b[0m\u001b[1;34m'side'\u001b[0m\u001b[1;33m]\u001b[0m\u001b[1;33m==\u001b[0m\u001b[1;34m'A'\u001b[0m\u001b[1;33m]\u001b[0m\u001b[1;33m,\u001b[0m\u001b[1;33m\u001b[0m\u001b[0m\n\u001b[0;32m      4\u001b[0m          'b', label='Ask prices')\n\u001b[0;32m      5\u001b[0m plt.plot(bac_Jan3_t['time'][bac_Jan3_t['side']=='B'],\n",
      "\u001b[1;31mNameError\u001b[0m: name 'bac_Jan3_t' is not defined"
     ]
    }
   ],
   "source": [
    "\n",
    "plt.plot(bac_Jan3_t['time'][bac_Jan3_t['side']=='A'],\n",
    "         bac_Jan3_t['price'][bac_Jan3_t['side']=='A'],\n",
    "         'b', label='Ask prices')\n",
    "plt.plot(bac_Jan3_t['time'][bac_Jan3_t['side']=='B'],\n",
    "         bac_Jan3_t['price'][bac_Jan3_t['side']=='B'],\n",
    "         'r', label = 'Bid prices')\n",
    "plt.legend()\n",
    "plt.show()"
   ]
  },
  {
   "cell_type": "code",
   "execution_count": null,
   "metadata": {},
   "outputs": [],
   "source": [
    "bac_Jan3_t.groupby('time').size()"
   ]
  }
 ],
 "metadata": {
  "kernelspec": {
   "display_name": "Python 3",
   "language": "python",
   "name": "python3"
  },
  "language_info": {
   "codemirror_mode": {
    "name": "ipython",
    "version": 3
   },
   "file_extension": ".py",
   "mimetype": "text/x-python",
   "name": "python",
   "nbconvert_exporter": "python",
   "pygments_lexer": "ipython3",
   "version": "3.6.5"
  }
 },
 "nbformat": 4,
 "nbformat_minor": 2
}
